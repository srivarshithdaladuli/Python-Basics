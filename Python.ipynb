{
 "cells": [
  {
   "cell_type": "markdown",
   "metadata": {},
   "source": [
    "Printing and Variables:"
   ]
  },
  {
   "cell_type": "code",
   "execution_count": null,
   "metadata": {},
   "outputs": [],
   "source": [
    "# Printing a message\n",
    "print(\"Hello, World!\")\n",
    "\n",
    "# Variables\n",
    "name = \"John\"\n",
    "age = 25\n",
    "height = 5.11\n",
    "is_student = True\n",
    "\n",
    "# Printing variables\n",
    "print(\"Name:\", name)\n",
    "print(\"Age:\", age)\n",
    "print(\"Height:\", height)\n",
    "print(\"Is Student:\", is_student)\n"
   ]
  },
  {
   "cell_type": "markdown",
   "metadata": {},
   "source": [
    "Data Types:"
   ]
  },
  {
   "cell_type": "code",
   "execution_count": null,
   "metadata": {},
   "outputs": [],
   "source": [
    "# Numbers\n",
    "num_int = 10\n",
    "num_float = 3.14\n",
    "\n",
    "# Strings\n",
    "message = \"Hello, Python!\" \n",
    "\n",
    "# Booleans\n",
    "is_true = True\n",
    "is_false = False\n",
    "\n",
    "# Lists\n",
    "fruits = [\"apple\", \"banana\", \"cherry\"]\n",
    "\n",
    "# Dictionaries\n",
    "person = {\"name\": \"John\", \"age\": 25, \"city\": \"New York\"}\n",
    "\n",
    "# Tuples\n",
    "coordinates = (10, 20)\n",
    "\n",
    "# Sets\n",
    "unique_numbers = {1, 2, 3, 4, 5}\n"
   ]
  },
  {
   "cell_type": "markdown",
   "metadata": {},
   "source": [
    "Basic Operations:"
   ]
  },
  {
   "cell_type": "code",
   "execution_count": null,
   "metadata": {},
   "outputs": [],
   "source": [
    "# Arithmetic\n",
    "result = 5 + 3\n",
    "result = 10 - 2\n",
    "result = 2 * 4\n",
    "result = 15 / 3\n",
    "result = 10 % 3   # Modulo (remainder)\n",
    "\n",
    "# String operations\n",
    "greeting = \"Hello, \" + \"Python!\"\n",
    "repeat_message = \"Python \" * 3\n",
    "\n",
    "# Boolean operations\n",
    "is_greater = 10 > 5\n",
    "is_equal = 5 == 5\n",
    "is_not_equal = 3 != 7\n",
    "is_in_list = \"apple\" in fruits\n"
   ]
  },
  {
   "cell_type": "markdown",
   "metadata": {},
   "source": [
    "Conditional Statements (if-elif-else):"
   ]
  },
  {
   "cell_type": "code",
   "execution_count": null,
   "metadata": {},
   "outputs": [],
   "source": [
    "age = 18\n",
    "\n",
    "if age < 18:\n",
    "    print(\"You are a minor.\")\n",
    "elif age == 18:\n",
    "    print(\"You just became an adult.\")\n",
    "else:\n",
    "    print(\"You are an adult.\")\n"
   ]
  },
  {
   "cell_type": "markdown",
   "metadata": {},
   "source": [
    "Loops (for and while):"
   ]
  },
  {
   "cell_type": "code",
   "execution_count": null,
   "metadata": {},
   "outputs": [],
   "source": [
    "# For loop\n",
    "for fruit in fruits:\n",
    "    print(fruit)\n",
    "\n",
    "# While loop\n",
    "count = 0\n",
    "while count < 5:\n",
    "    print(\"Count:\", count)\n",
    "    count += 1\n"
   ]
  },
  {
   "cell_type": "markdown",
   "metadata": {},
   "source": [
    "Functions:"
   ]
  },
  {
   "cell_type": "code",
   "execution_count": null,
   "metadata": {},
   "outputs": [],
   "source": [
    "# Function definition\n",
    "def greet(name):\n",
    "    return \"Hello, \" + name + \"!\"\n",
    "\n",
    "# Function call\n",
    "message = greet(\"Alice\")\n",
    "print(message)\n"
   ]
  },
  {
   "cell_type": "markdown",
   "metadata": {},
   "source": [
    "Lists and List Comprehension:"
   ]
  },
  {
   "cell_type": "code",
   "execution_count": null,
   "metadata": {},
   "outputs": [],
   "source": [
    "numbers = [1, 2, 3, 4, 5]\n",
    "\n",
    "# Accessing elements\n",
    "print(numbers[0])  # Output: 1\n",
    "\n",
    "# Slicing\n",
    "print(numbers[1:4])  # Output: [2, 3, 4]\n",
    "\n",
    "# List comprehension\n",
    "squared_numbers = [num * num for num in numbers]\n",
    "print(squared_numbers)  # Output: [1, 4, 9, 16, 25]\n"
   ]
  },
  {
   "cell_type": "markdown",
   "metadata": {},
   "source": [
    "Dictionaries:"
   ]
  },
  {
   "cell_type": "code",
   "execution_count": null,
   "metadata": {},
   "outputs": [],
   "source": [
    "person = {\"name\": \"John\", \"age\": 30, \"city\": \"New York\"}\n",
    "\n",
    "# Accessing values\n",
    "print(person[\"name\"])  # Output: John\n",
    "\n",
    "# Adding new key-value pairs\n",
    "person[\"occupation\"] = \"Engineer\"\n",
    "\n",
    "# Looping through keys and values\n",
    "for key, value in person.items():\n",
    "    print(key, \":\", value)"
   ]
  },
  {
   "cell_type": "markdown",
   "metadata": {},
   "source": [
    "Classes and Objects:"
   ]
  },
  {
   "cell_type": "code",
   "execution_count": null,
   "metadata": {},
   "outputs": [],
   "source": [
    "class Dog:\n",
    "    # Constructor\n",
    "    def __init__(self, name, age):\n",
    "        self.name = name\n",
    "        self.age = age\n",
    "\n",
    "    # Method\n",
    "    def bark(self):\n",
    "        print(\"Woof! My name is\", self.name, \"and I am\", self.age, \"years old.\")\n",
    "\n",
    "# Creating an object\n",
    "dog1 = Dog(\"Buddy\", 3)\n",
    "\n",
    "# Accessing attributes and calling methods\n",
    "print(dog1.name)  # Output: Buddy\n",
    "dog1.bark()       # Output: Woof! My name is Buddy and I am 3 years old."
   ]
  },
  {
   "cell_type": "markdown",
   "metadata": {},
   "source": [
    "User Input:"
   ]
  },
  {
   "cell_type": "code",
   "execution_count": null,
   "metadata": {},
   "outputs": [],
   "source": [
    "# Getting user input\n",
    "name = input(\"What's your name? \")\n",
    "print(\"Hello, \" + name + \"! Nice to meet you.\")"
   ]
  },
  {
   "cell_type": "markdown",
   "metadata": {},
   "source": [
    "Error Handling (try-except):"
   ]
  },
  {
   "cell_type": "code",
   "execution_count": null,
   "metadata": {},
   "outputs": [],
   "source": [
    "try:\n",
    "    num = int(input(\"Enter a number: \"))\n",
    "    result = 10 / num\n",
    "    print(\"Result:\", result)\n",
    "except ZeroDivisionError:\n",
    "    print(\"Error: Cannot divide by zero.\")\n",
    "except ValueError:\n",
    "    print(\"Error: Invalid input. Please enter a valid number.\")"
   ]
  },
  {
   "cell_type": "markdown",
   "metadata": {},
   "source": [
    "File Handling:"
   ]
  },
  {
   "cell_type": "code",
   "execution_count": null,
   "metadata": {},
   "outputs": [],
   "source": [
    "# Writing to a file\n",
    "with open(\"output.txt\", \"w\") as file:\n",
    "    file.write(\"Hello, File Handling!\")\n",
    "\n",
    "# Reading from a file\n",
    "with open(\"output.txt\", \"r\") as file:\n",
    "    content = file.read()\n",
    "    print(content)"
   ]
  },
  {
   "cell_type": "markdown",
   "metadata": {},
   "source": [
    "Modules and Libraries:"
   ]
  },
  {
   "cell_type": "code",
   "execution_count": null,
   "metadata": {},
   "outputs": [],
   "source": [
    "# Importing a module\n",
    "import math\n",
    "\n",
    "# Using functions from the module\n",
    "radius = 5\n",
    "area = math.pi * math.pow(radius, 2)\n",
    "print(\"Area of the circle:\", area)"
   ]
  },
  {
   "cell_type": "markdown",
   "metadata": {},
   "source": [
    "Comments and Docstrings:"
   ]
  },
  {
   "cell_type": "code",
   "execution_count": null,
   "metadata": {},
   "outputs": [],
   "source": [
    "# This is a single-line comment\n",
    "\n",
    "\"\"\"\n",
    "This is a multi-line comment or a docstring.\n",
    "It is used to document the purpose of functions, classes, or modules.\n",
    "\"\"\"\n",
    "\n",
    "def add(a, b):\n",
    "    \"\"\"This function returns the sum of two numbers.\"\"\"\n",
    "    return a + b"
   ]
  },
  {
   "cell_type": "markdown",
   "metadata": {},
   "source": [
    "Lambda Functions (Anonymous Functions):"
   ]
  },
  {
   "cell_type": "code",
   "execution_count": null,
   "metadata": {},
   "outputs": [],
   "source": [
    "# Normal function\n",
    "def square(x):\n",
    "    return x * x\n",
    "\n",
    "# Equivalent lambda function\n",
    "square_lambda = lambda x: x * x\n",
    "\n",
    "print(square(5))           # Output: 25\n",
    "print(square_lambda(5))    # Output: 25"
   ]
  },
  {
   "cell_type": "markdown",
   "metadata": {},
   "source": [
    "Recursion:"
   ]
  },
  {
   "cell_type": "code",
   "execution_count": null,
   "metadata": {},
   "outputs": [],
   "source": [
    "def factorial(n):\n",
    "    if n == 0 or n == 1:\n",
    "        return 1\n",
    "    else:\n",
    "        return n * factorial(n - 1)\n",
    "\n",
    "print(factorial(5))   # Output: 120 (5! = 5 * 4 * 3 * 2 * 1 = 120)"
   ]
  },
  {
   "cell_type": "markdown",
   "metadata": {},
   "source": [
    "Virtual Environment:\n",
    "\n",
    "Setting up a virtual environment to manage project dependencies:"
   ]
  },
  {
   "cell_type": "code",
   "execution_count": null,
   "metadata": {},
   "outputs": [],
   "source": [
    "# Create a virtual environment\n",
    "python -m venv myenv\n",
    "\n",
    "# Activate the virtual environment (Windows)\n",
    "myenv\\Scripts\\activate\n",
    "\n",
    "# Activate the virtual environment (Mac/Linux)\n",
    "source myenv/bin/activate"
   ]
  },
  {
   "cell_type": "markdown",
   "metadata": {},
   "source": [
    "Installing External Packages:"
   ]
  },
  {
   "cell_type": "code",
   "execution_count": null,
   "metadata": {},
   "outputs": [],
   "source": [
    "# Using pip to install packages\n",
    "# For example, to install the requests library:\n",
    "pip install requests"
   ]
  },
  {
   "cell_type": "markdown",
   "metadata": {},
   "source": [
    "List Manipulation:"
   ]
  },
  {
   "cell_type": "code",
   "execution_count": null,
   "metadata": {},
   "outputs": [],
   "source": [
    "numbers = [1, 2, 3, 4, 5]\n",
    "\n",
    "# Adding elements to the end of the list\n",
    "numbers.append(6)\n",
    "\n",
    "# Inserting an element at a specific index\n",
    "numbers.insert(2, 7)  # [1, 2, 7, 3, 4, 5, 6]\n",
    "\n",
    "# Removing an element by value\n",
    "numbers.remove(3)     # [1, 2, 7, 4, 5, 6]\n",
    "\n",
    "# Removing an element by index\n",
    "removed_element = numbers.pop(1)  # [1, 7, 4, 5, 6], removed_element = 2\n",
    "\n",
    "# Reversing the list\n",
    "numbers.reverse()     # [6, 5, 4, 7, 1]\n",
    "\n",
    "# Sorting the list\n",
    "numbers.sort()        # [1, 4, 5, 6, 7]\n",
    "\n",
    "# Checking the length of the list\n",
    "length = len(numbers)  # 5"
   ]
  },
  {
   "cell_type": "markdown",
   "metadata": {},
   "source": [
    "Sets:"
   ]
  },
  {
   "cell_type": "code",
   "execution_count": null,
   "metadata": {},
   "outputs": [],
   "source": [
    "set1 = {1, 2, 3, 4, 5}\n",
    "set2 = {4, 5, 6, 7, 8}\n",
    "\n",
    "# Union of sets\n",
    "union_set = set1.union(set2)  # {1, 2, 3, 4, 5, 6, 7, 8}\n",
    "\n",
    "# Intersection of sets\n",
    "intersection_set = set1.intersection(set2)  # {4, 5}\n",
    "\n",
    "# Difference between sets\n",
    "difference_set = set1.difference(set2)  # {1, 2, 3}\n",
    "\n",
    "# Checking if a set is a subset of another set\n",
    "is_subset = set1.issubset(set2)  # False"
   ]
  },
  {
   "cell_type": "markdown",
   "metadata": {},
   "source": [
    "List Comprehension:"
   ]
  },
  {
   "cell_type": "code",
   "execution_count": null,
   "metadata": {},
   "outputs": [],
   "source": [
    "# Using list comprehension to create a new list\n",
    "numbers = [1, 2, 3, 4, 5]\n",
    "squared_numbers = [num * num for num in numbers]  # [1, 4, 9, 16, 25]\n",
    "\n",
    "# List comprehension with conditionals\n",
    "even_numbers = [num for num in numbers if num % 2 == 0]  # [2, 4]"
   ]
  },
  {
   "cell_type": "markdown",
   "metadata": {},
   "source": [
    "Dictionary Comprehension:"
   ]
  },
  {
   "cell_type": "code",
   "execution_count": null,
   "metadata": {},
   "outputs": [],
   "source": [
    "# Using dictionary comprehension to create a new dictionary\n",
    "fruits = [\"apple\", \"banana\", \"cherry\"]\n",
    "fruit_lengths = {fruit: len(fruit) for fruit in fruits}\n",
    "# Output: {'apple': 5, 'banana': 6, 'cherry': 6}"
   ]
  },
  {
   "cell_type": "markdown",
   "metadata": {},
   "source": [
    "Default Arguments in Functions:"
   ]
  },
  {
   "cell_type": "code",
   "execution_count": null,
   "metadata": {},
   "outputs": [],
   "source": [
    "def greet(name, greeting=\"Hello\"):\n",
    "    print(greeting + \", \" + name + \"!\")\n",
    "\n",
    "greet(\"John\")              # Output: Hello, John!\n",
    "greet(\"Alice\", \"Hi\")       # Output: Hi, Alice!\n"
   ]
  },
  {
   "cell_type": "markdown",
   "metadata": {},
   "source": [
    "Mutable vs. Immutable:"
   ]
  },
  {
   "cell_type": "code",
   "execution_count": null,
   "metadata": {},
   "outputs": [],
   "source": [
    "# Immutable data types: int, float, str, tuple\n",
    "a = 5\n",
    "b = a\n",
    "a = 10\n",
    "print(b)  # Output: 5\n",
    "\n",
    "# Mutable data types: list, dict, set\n",
    "list1 = [1, 2, 3]\n",
    "list2 = list1\n",
    "list1[0] = 100\n",
    "print(list2)  # Output: [100, 2, 3]"
   ]
  },
  {
   "cell_type": "markdown",
   "metadata": {},
   "source": [
    "Iterators and Iterables:"
   ]
  },
  {
   "cell_type": "code",
   "execution_count": null,
   "metadata": {},
   "outputs": [],
   "source": [
    "numbers = [1, 2, 3, 4, 5]\n",
    "\n",
    "# Iterating through a list using a for loop\n",
    "for num in numbers:\n",
    "    print(num)\n",
    "\n",
    "# Creating an iterator from a list\n",
    "num_iterator = iter(numbers)\n",
    "\n",
    "# Iterating through an iterator using next()\n",
    "print(next(num_iterator))  # Output: 1\n",
    "print(next(num_iterator))  # Output: 2"
   ]
  },
  {
   "cell_type": "markdown",
   "metadata": {},
   "source": [
    "Generators:"
   ]
  },
  {
   "cell_type": "code",
   "execution_count": null,
   "metadata": {},
   "outputs": [],
   "source": [
    "# Generator function that yields values\n",
    "def square_numbers(n):\n",
    "    for i in range(1, n + 1):\n",
    "        yield i * i\n",
    "\n",
    "# Using the generator to get squared values\n",
    "squared_values = square_numbers(5)\n",
    "for num in squared_values:\n",
    "    print(num)  # Output: 1, 4, 9, 16, 25\n"
   ]
  },
  {
   "cell_type": "markdown",
   "metadata": {},
   "source": [
    "'enumerate' function:\n"
   ]
  },
  {
   "cell_type": "code",
   "execution_count": null,
   "metadata": {},
   "outputs": [],
   "source": [
    "fruits = [\"apple\", \"banana\", \"cherry\"]\n",
    "\n",
    "# Using enumerate to get index and value\n",
    "for index, fruit in enumerate(fruits):\n",
    "    print(f\"Index: {index}, Fruit: {fruit}\")\n",
    "# Output:\n",
    "# Index: 0, Fruit: apple\n",
    "# Index: 1, Fruit: banana\n",
    "# Index: 2, Fruit: cherry"
   ]
  },
  {
   "cell_type": "markdown",
   "metadata": {},
   "source": [
    "'zip' function:"
   ]
  },
  {
   "cell_type": "code",
   "execution_count": null,
   "metadata": {},
   "outputs": [],
   "source": [
    "names = [\"Alice\", \"Bob\", \"Charlie\"]\n",
    "ages = [25, 30, 35]\n",
    "\n",
    "# Using zip to combine lists into pairs\n",
    "for name, age in zip(names, ages):\n",
    "    print(f\"Name: {name}, Age: {age}\")\n",
    "# Output:\n",
    "# Name: Alice, Age: 25\n",
    "# Name: Bob, Age: 30\n",
    "# Name: Charlie, Age: 35"
   ]
  },
  {
   "cell_type": "markdown",
   "metadata": {},
   "source": [
    "'map' function:"
   ]
  },
  {
   "cell_type": "code",
   "execution_count": null,
   "metadata": {},
   "outputs": [],
   "source": [
    "# Using map to apply a function to each element of a list\n",
    "numbers = [1, 2, 3, 4, 5]\n",
    "squared = list(map(lambda x: x * x, numbers))  # [1, 4, 9, 16, 25]"
   ]
  },
  {
   "cell_type": "markdown",
   "metadata": {},
   "source": [
    "'filter' function:"
   ]
  },
  {
   "cell_type": "code",
   "execution_count": null,
   "metadata": {},
   "outputs": [],
   "source": [
    "# Using filter to select elements that satisfy a condition\n",
    "numbers = [1, 2, 3, 4, 5]\n",
    "even_numbers = list(filter(lambda x: x % 2 == 0, numbers))  # [2, 4]"
   ]
  },
  {
   "cell_type": "markdown",
   "metadata": {},
   "source": [
    "Decorators:"
   ]
  },
  {
   "cell_type": "code",
   "execution_count": null,
   "metadata": {},
   "outputs": [],
   "source": [
    "# Decorator function\n",
    "def my_decorator(func):\n",
    "    def wrapper():\n",
    "        print(\"Something is happening before the function is called.\")\n",
    "        func()\n",
    "        print(\"Something is happening after the function is called.\")\n",
    "    return wrapper\n",
    "\n",
    "# Applying the decorator\n",
    "@my_decorator\n",
    "def say_hello():\n",
    "    print(\"Hello!\")\n",
    "\n",
    "# Calling the decorated function\n",
    "say_hello()\n",
    "# Output:\n",
    "# Something is happening before the function is called.\n",
    "# Hello!\n",
    "# Something is happening after the function is called."
   ]
  },
  {
   "cell_type": "markdown",
   "metadata": {},
   "source": [
    "'try-finally' block:"
   ]
  },
  {
   "cell_type": "code",
   "execution_count": null,
   "metadata": {},
   "outputs": [],
   "source": [
    "# Using try-finally to ensure cleanup\n",
    "file = open(\"example.txt\", \"w\")\n",
    "try:\n",
    "    file.write(\"Hello, Python!\")\n",
    "finally:\n",
    "    file.close()"
   ]
  },
  {
   "cell_type": "markdown",
   "metadata": {},
   "source": [
    "'with' statement (Context Managers):"
   ]
  },
  {
   "cell_type": "code",
   "execution_count": null,
   "metadata": {},
   "outputs": [],
   "source": [
    "# Using with statement for automatic resource management\n",
    "with open(\"example.txt\", \"r\") as file:\n",
    "    content = file.read()\n",
    "    print(content)"
   ]
  },
  {
   "cell_type": "markdown",
   "metadata": {},
   "source": [
    "'*args' and '**kwargs':"
   ]
  },
  {
   "cell_type": "code",
   "execution_count": null,
   "metadata": {},
   "outputs": [],
   "source": [
    "# Using *args to accept a variable number of positional arguments\n",
    "def add(*args):\n",
    "    total = 0\n",
    "    for num in args:\n",
    "        total += num\n",
    "    return total\n",
    "\n",
    "print(add(1, 2, 3, 4))  # Output: 10\n",
    "\n",
    "# Using **kwargs to accept a variable number of keyword arguments\n",
    "def print_person_info(**kwargs):\n",
    "    for key, value in kwargs.items():\n",
    "        print(key, \":\", value)\n",
    "\n",
    "print_person_info(name=\"John\", age=30, city=\"New York\")\n",
    "# Output:\n",
    "# name : John\n",
    "# age : 30\n",
    "# city : New York"
   ]
  },
  {
   "cell_type": "markdown",
   "metadata": {},
   "source": [
    "'assert' statement:"
   ]
  },
  {
   "cell_type": "code",
   "execution_count": null,
   "metadata": {},
   "outputs": [],
   "source": [
    "# Using assert for debugging and testing\n",
    "def divide(a, b):\n",
    "    assert b != 0, \"Division by zero is not allowed.\"\n",
    "    return a / b\n",
    "\n",
    "result = divide(10, 2)\n",
    "print(result)  # Output: 5.0\n",
    "\n",
    "result = divide(10, 0)  # Raises an AssertionError with the message provided"
   ]
  },
  {
   "cell_type": "markdown",
   "metadata": {},
   "source": [
    "String Formatting:"
   ]
  },
  {
   "cell_type": "code",
   "execution_count": null,
   "metadata": {},
   "outputs": [],
   "source": [
    "name = \"John\"\n",
    "age = 25\n",
    "\n",
    "# Using f-string for string formatting (Python 3.6+)\n",
    "message = f\"My name is {name} and I am {age} years old.\"\n",
    "print(message)  # Output: My name is John and I am 25 years old.\n",
    "\n",
    "# Using .format() for string formatting (Python 2.6+ and 3.x)\n",
    "message = \"My name is {} and I am {} years old.\".format(name, age)\n",
    "print(message)  # Output: My name is John and I am 25 years old."
   ]
  },
  {
   "cell_type": "markdown",
   "metadata": {},
   "source": [
    "'any()' and 'all()' functions:"
   ]
  },
  {
   "cell_type": "code",
   "execution_count": null,
   "metadata": {},
   "outputs": [],
   "source": [
    "# Using any() to check if any element in the iterable is True\n",
    "numbers = [0, 1, 2, 3]\n",
    "result = any(numbers)\n",
    "print(result)  # Output: True\n",
    "\n",
    "# Using all() to check if all elements in the iterable are True\n",
    "numbers = [1, 2, 3, 4]\n",
    "result = all(numbers)\n",
    "print(result)  # Output: True"
   ]
  },
  {
   "cell_type": "markdown",
   "metadata": {},
   "source": [
    "'lambda' with 'map' and 'filter':"
   ]
  },
  {
   "cell_type": "code",
   "execution_count": null,
   "metadata": {},
   "outputs": [],
   "source": [
    "# Using lambda with map\n",
    "numbers = [1, 2, 3, 4, 5]\n",
    "squared = list(map(lambda x: x * x, numbers))  # [1, 4, 9, 16, 25]\n",
    "\n",
    "# Using lambda with filter\n",
    "even_numbers = list(filter(lambda x: x % 2 == 0, numbers))  # [2, 4]"
   ]
  },
  {
   "cell_type": "markdown",
   "metadata": {},
   "source": [
    "'sorted()' function:"
   ]
  },
  {
   "cell_type": "code",
   "execution_count": null,
   "metadata": {},
   "outputs": [],
   "source": [
    "numbers = [3, 1, 4, 1, 5, 9, 2, 6, 5, 3, 5]\n",
    "sorted_numbers = sorted(numbers)\n",
    "print(sorted_numbers)  # Output: [1, 1, 2, 3, 3, 4, 5, 5, 5, 6, 9]"
   ]
  },
  {
   "cell_type": "markdown",
   "metadata": {},
   "source": [
    "'eval()' function:"
   ]
  },
  {
   "cell_type": "code",
   "execution_count": null,
   "metadata": {},
   "outputs": [],
   "source": [
    "expression = \"2 + 3 * 5\"\n",
    "result = eval(expression)\n",
    "print(result)  # Output: 17"
   ]
  },
  {
   "cell_type": "markdown",
   "metadata": {},
   "source": [
    "'itertools' module:\n",
    "\n",
    "The itertools module provides functions for creating iterators for efficient looping and combinatorial operations."
   ]
  },
  {
   "cell_type": "code",
   "execution_count": null,
   "metadata": {},
   "outputs": [],
   "source": [
    "import itertools\n",
    "\n",
    "# Using itertools.count to create an infinite counting iterator\n",
    "count_iterator = itertools.count(start=1, step=2)\n",
    "for _ in range(5):\n",
    "    print(next(count_iterator))\n",
    "# Output: 1, 3, 5, 7, 9\n",
    "\n",
    "# Using itertools.cycle to create a cycling iterator\n",
    "colors = ['red', 'green', 'blue']\n",
    "color_iterator = itertools.cycle(colors)\n",
    "for _ in range(6):\n",
    "    print(next(color_iterator))\n",
    "# Output: red, green, blue, red, green, blue\n",
    "\n",
    "# Using itertools.product to create cartesian product of iterables\n",
    "numbers = [1, 2]\n",
    "letters = ['a', 'b']\n",
    "result = itertools.product(numbers, letters)\n",
    "for item in result:\n",
    "    print(item)\n",
    "# Output: (1, 'a'), (1, 'b'), (2, 'a'), (2, 'b')"
   ]
  },
  {
   "cell_type": "markdown",
   "metadata": {},
   "source": [
    "'collections' module:\n",
    "\n",
    "The collections module provides additional data structures and functionalities compared to the built-in types."
   ]
  },
  {
   "cell_type": "code",
   "execution_count": null,
   "metadata": {},
   "outputs": [],
   "source": [
    "import collections\n",
    "\n",
    "# Using defaultdict to create a dictionary with a default value\n",
    "fruit_count = collections.defaultdict(int)\n",
    "fruits = ['apple', 'banana', 'apple', 'cherry', 'banana']\n",
    "for fruit in fruits:\n",
    "    fruit_count[fruit] += 1\n",
    "print(fruit_count)\n",
    "# Output: defaultdict(<class 'int'>, {'apple': 2, 'banana': 2, 'cherry': 1})\n",
    "\n",
    "# Using Counter to count occurrences of elements\n",
    "fruit_counter = collections.Counter(fruits)\n",
    "print(fruit_counter)\n",
    "# Output: Counter({'apple': 2, 'banana': 2, 'cherry': 1})\n",
    "\n",
    "# Using namedtuple to create a simple class-like data structure\n",
    "Person = collections.namedtuple('Person', ['name', 'age'])\n",
    "person = Person(name='John', age=30)\n",
    "print(person.name, person.age)\n",
    "# Output: John 30"
   ]
  },
  {
   "cell_type": "markdown",
   "metadata": {},
   "source": [
    "File Handling - Reading CSV:"
   ]
  },
  {
   "cell_type": "code",
   "execution_count": null,
   "metadata": {},
   "outputs": [],
   "source": [
    "import csv\n",
    "\n",
    "# Reading a CSV file and printing its contents\n",
    "with open('data.csv', 'r') as file:\n",
    "    reader = csv.reader(file)\n",
    "    for row in reader:\n",
    "        print(', '.join(row))"
   ]
  },
  {
   "cell_type": "markdown",
   "metadata": {},
   "source": [
    "JSON Serialization and Deserialization:"
   ]
  },
  {
   "cell_type": "code",
   "execution_count": null,
   "metadata": {},
   "outputs": [],
   "source": [
    "import json\n",
    "\n",
    "# Serialization (Python to JSON)\n",
    "data = {\n",
    "    'name': 'John',\n",
    "    'age': 30,\n",
    "    'city': 'New York'\n",
    "}\n",
    "json_data = json.dumps(data)\n",
    "print(json_data)  # Output: {\"name\": \"John\", \"age\": 30, \"city\": \"New York\"}\n",
    "\n",
    "# Deserialization (JSON to Python)\n",
    "json_str = '{\"name\": \"Alice\", \"age\": 25, \"city\": \"Chicago\"}'\n",
    "python_data = json.loads(json_str)\n",
    "print(python_data['name'], python_data['age'])  # Output: Alice 25"
   ]
  },
  {
   "cell_type": "markdown",
   "metadata": {},
   "source": [
    "'datetime' module:\n",
    "\n",
    "The 'datetime' module allows working with dates and times in Python."
   ]
  },
  {
   "cell_type": "code",
   "execution_count": null,
   "metadata": {},
   "outputs": [],
   "source": [
    "import datetime\n",
    "\n",
    "# Getting the current date and time\n",
    "current_time = datetime.datetime.now()\n",
    "print(current_time)\n",
    "\n",
    "# Formatting dates and times\n",
    "formatted_time = current_time.strftime('%Y-%m-%d %H:%M:%S')\n",
    "print(formatted_time)  # Output: 2023-07-24 14:30:00"
   ]
  }
 ],
 "metadata": {
  "language_info": {
   "name": "python"
  },
  "orig_nbformat": 4
 },
 "nbformat": 4,
 "nbformat_minor": 2
}
